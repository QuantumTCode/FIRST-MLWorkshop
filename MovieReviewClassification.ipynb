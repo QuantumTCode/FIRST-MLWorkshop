{
  "nbformat": 4,
  "nbformat_minor": 0,
  "metadata": {
    "colab": {
      "name": "Untitled5.ipynb",
      "version": "0.3.2",
      "provenance": [],
      "collapsed_sections": [],
      "include_colab_link": true
    },
    "kernelspec": {
      "name": "python3",
      "display_name": "Python 3"
    },
    "accelerator": "GPU"
  },
  "cells": [
    {
      "cell_type": "markdown",
      "metadata": {
        "id": "view-in-github",
        "colab_type": "text"
      },
      "source": [
        "<a href=\"https://colab.research.google.com/github/QuantumTCode/FIRST-MLWorkshop/blob/master/MovieReviewClassification.ipynb\" target=\"_parent\"><img src=\"https://colab.research.google.com/assets/colab-badge.svg\" alt=\"Open In Colab\"/></a>"
      ]
    },
    {
      "metadata": {
        "id": "MiOSHxWgAh4Y",
        "colab_type": "code",
        "colab": {}
      },
      "cell_type": "code",
      "source": [
        "import tensorflow as tf\n",
        "from tensorflow import keras \n",
        "import numpy as np\n",
        "import matplotlib.pyplot as plt\n",
        "\n",
        "imdb = keras.datasets.imdb\n",
        "\n",
        "(xtrain,ytrain), (xtest,ytest)=imdb.load_data(num_words=10000)"
      ],
      "execution_count": 0,
      "outputs": []
    },
    {
      "metadata": {
        "id": "Mkxn0nBjB8xq",
        "colab_type": "code",
        "colab": {
          "base_uri": "https://localhost:8080/",
          "height": 51
        },
        "outputId": "98871d6a-47b7-4c80-835c-b588e8704e8b"
      },
      "cell_type": "code",
      "source": [
        "print(\"Training entries: {}, labels: {}\".format(len(xtrain), len(ytrain)))\n",
        "print((xtrain.shape))\n"
      ],
      "execution_count": 45,
      "outputs": [
        {
          "output_type": "stream",
          "text": [
            "Training entries: 25000, labels: 25000\n",
            "(25000,)\n"
          ],
          "name": "stdout"
        }
      ]
    },
    {
      "metadata": {
        "id": "PVX6Z0sKCE1r",
        "colab_type": "code",
        "colab": {}
      },
      "cell_type": "code",
      "source": [
        "word_index = imdb.get_word_index()\n",
        "\n",
        "word_index = {k:(v+3) for k,v in word_index.items()} \n",
        "word_index[\"<PAD>\"] = 0\n",
        "word_index[\"<START>\"] = 1\n",
        "word_index[\"<UNK>\"] = 2\n",
        "word_index[\"<UNUSED>\"] = 3\n",
        "\n",
        "reverse_word_index = dict([(value, key) for (key, value) in word_index.items()])\n",
        "\n",
        "def decode_review(text):\n",
        "    return ' '.join([reverse_word_index.get(i, '?') for i in text])"
      ],
      "execution_count": 0,
      "outputs": []
    },
    {
      "metadata": {
        "id": "gBAg3e9mCuUt",
        "colab_type": "code",
        "colab": {
          "base_uri": "https://localhost:8080/",
          "height": 54
        },
        "outputId": "b038f8da-f9c3-4cd6-cd35-665c73cfdc3a"
      },
      "cell_type": "code",
      "source": [
        "decode_review(xtrain[2])"
      ],
      "execution_count": 47,
      "outputs": [
        {
          "output_type": "execute_result",
          "data": {
            "text/plain": [
              "\"<START> this has to be one of the worst films of the 1990s when my friends i were watching this film being the target audience it was aimed at we just sat watched the first half an hour with our jaws touching the floor at how bad it really was the rest of the time everyone else in the theatre just started talking to each other leaving or generally crying into their popcorn that they actually paid money they had <UNK> working to watch this feeble excuse for a film it must have looked like a great idea on paper but on film it looks like no one in the film has a clue what is going on crap acting crap costumes i can't get across how <UNK> this is to watch save yourself an hour a bit of your life\""
            ]
          },
          "metadata": {
            "tags": []
          },
          "execution_count": 47
        }
      ]
    },
    {
      "metadata": {
        "id": "A7Z0XXJ2Cy6a",
        "colab_type": "code",
        "colab": {}
      },
      "cell_type": "code",
      "source": [
        "train_data=keras.preprocessing.sequence.pad_sequences(xtrain,value=word_index[\"<PAD>\"],padding='post',maxlen=256)\n",
        "test_data=keras.preprocessing.sequence.pad_sequences(xtest,value=word_index[\"<PAD>\"],padding='post',maxlen=256)"
      ],
      "execution_count": 0,
      "outputs": []
    },
    {
      "metadata": {
        "id": "h1UO2N_nDZbP",
        "colab_type": "code",
        "colab": {}
      },
      "cell_type": "code",
      "source": [
        ""
      ],
      "execution_count": 0,
      "outputs": []
    },
    {
      "metadata": {
        "id": "bFIcl4uCDc3i",
        "colab_type": "code",
        "colab": {
          "base_uri": "https://localhost:8080/",
          "height": 306
        },
        "outputId": "3fb0d31b-b3c6-40b1-ea4a-481102c21653"
      },
      "cell_type": "code",
      "source": [
        "vocab=10000\n",
        "from keras import regularizers\n",
        "model=keras.Sequential()\n",
        "model.add(keras.layers.Embedding(vocab,256))\n",
        "model.add(keras.layers.GlobalAveragePooling1D())\n",
        "model.add(keras.layers.Dense(1024,activation=tf.nn.relu, kernel_regularizer=regularizers.l2(0.01)))\n",
        "model.add(keras.layers.Dropout(0.25))\n",
        "model.add(keras.layers.Dense(1,activation=tf.nn.sigmoid))\n",
        "model.summary()"
      ],
      "execution_count": 78,
      "outputs": [
        {
          "output_type": "stream",
          "text": [
            "_________________________________________________________________\n",
            "Layer (type)                 Output Shape              Param #   \n",
            "=================================================================\n",
            "embedding_7 (Embedding)      (None, None, 256)         2560000   \n",
            "_________________________________________________________________\n",
            "global_average_pooling1d_7 ( (None, 256)               0         \n",
            "_________________________________________________________________\n",
            "dense_14 (Dense)             (None, 1024)              263168    \n",
            "_________________________________________________________________\n",
            "dropout_2 (Dropout)          (None, 1024)              0         \n",
            "_________________________________________________________________\n",
            "dense_15 (Dense)             (None, 1)                 1025      \n",
            "=================================================================\n",
            "Total params: 2,824,193\n",
            "Trainable params: 2,824,193\n",
            "Non-trainable params: 0\n",
            "_________________________________________________________________\n"
          ],
          "name": "stdout"
        }
      ]
    },
    {
      "metadata": {
        "id": "Hos8TNEr3j4T",
        "colab_type": "code",
        "colab": {}
      },
      "cell_type": "code",
      "source": [
        "model.compile(optimizer=tf.train.AdamOptimizer(),loss='binary_crossentropy',metrics=['accuracy'])"
      ],
      "execution_count": 0,
      "outputs": []
    },
    {
      "metadata": {
        "id": "Skw0tBwL4tUU",
        "colab_type": "code",
        "colab": {}
      },
      "cell_type": "code",
      "source": [
        "\n",
        "xval=train_data[:5000]\n",
        "pxtrain=train_data[5000:]\n",
        "\n",
        "yval=ytrain[:5000]\n",
        "pytrain=ytrain[5000:]"
      ],
      "execution_count": 0,
      "outputs": []
    },
    {
      "metadata": {
        "id": "aKCQqhyG6yUL",
        "colab_type": "code",
        "colab": {
          "base_uri": "https://localhost:8080/",
          "height": 1734
        },
        "outputId": "ddcf64b6-21b8-4fb0-8fab-9454cf1ea55c"
      },
      "cell_type": "code",
      "source": [
        "\n",
        "training=model.fit(pxtrain,pytrain,epochs=50,batch_size=512,validation_data=(xval,yval),verbose=1)"
      ],
      "execution_count": 81,
      "outputs": [
        {
          "output_type": "stream",
          "text": [
            "Train on 20000 samples, validate on 5000 samples\n",
            "Epoch 1/50\n",
            "20000/20000 [==============================] - 2s 87us/step - loss: 2.5412 - acc: 0.5940 - val_loss: 1.1322 - val_acc: 0.6134\n",
            "Epoch 2/50\n",
            "20000/20000 [==============================] - 1s 42us/step - loss: 0.8111 - acc: 0.7242 - val_loss: 0.6316 - val_acc: 0.7450\n",
            "Epoch 3/50\n",
            "20000/20000 [==============================] - 1s 42us/step - loss: 0.5452 - acc: 0.8132 - val_loss: 0.4943 - val_acc: 0.8380\n",
            "Epoch 4/50\n",
            "20000/20000 [==============================] - 1s 43us/step - loss: 0.4386 - acc: 0.8659 - val_loss: 0.4331 - val_acc: 0.8614\n",
            "Epoch 5/50\n",
            "20000/20000 [==============================] - 1s 42us/step - loss: 0.3803 - acc: 0.8905 - val_loss: 0.3986 - val_acc: 0.8724\n",
            "Epoch 6/50\n",
            "20000/20000 [==============================] - 1s 41us/step - loss: 0.3437 - acc: 0.9002 - val_loss: 0.3776 - val_acc: 0.8784\n",
            "Epoch 7/50\n",
            "20000/20000 [==============================] - 1s 42us/step - loss: 0.3153 - acc: 0.9108 - val_loss: 0.3625 - val_acc: 0.8784\n",
            "Epoch 8/50\n",
            "20000/20000 [==============================] - 1s 42us/step - loss: 0.2941 - acc: 0.9159 - val_loss: 0.3490 - val_acc: 0.8848\n",
            "Epoch 9/50\n",
            "20000/20000 [==============================] - 1s 43us/step - loss: 0.2768 - acc: 0.9238 - val_loss: 0.3440 - val_acc: 0.8848\n",
            "Epoch 10/50\n",
            "20000/20000 [==============================] - 1s 42us/step - loss: 0.2613 - acc: 0.9292 - val_loss: 0.3341 - val_acc: 0.8882\n",
            "Epoch 11/50\n",
            "20000/20000 [==============================] - 1s 42us/step - loss: 0.2483 - acc: 0.9331 - val_loss: 0.3328 - val_acc: 0.8888\n",
            "Epoch 12/50\n",
            "20000/20000 [==============================] - 1s 42us/step - loss: 0.2373 - acc: 0.9372 - val_loss: 0.3290 - val_acc: 0.8892\n",
            "Epoch 13/50\n",
            "20000/20000 [==============================] - 1s 42us/step - loss: 0.2270 - acc: 0.9408 - val_loss: 0.3209 - val_acc: 0.8914\n",
            "Epoch 14/50\n",
            "20000/20000 [==============================] - 1s 42us/step - loss: 0.2163 - acc: 0.9466 - val_loss: 0.3242 - val_acc: 0.8924\n",
            "Epoch 15/50\n",
            "20000/20000 [==============================] - 1s 42us/step - loss: 0.2076 - acc: 0.9489 - val_loss: 0.3216 - val_acc: 0.8910\n",
            "Epoch 16/50\n",
            "20000/20000 [==============================] - 1s 42us/step - loss: 0.1999 - acc: 0.9522 - val_loss: 0.3176 - val_acc: 0.8884\n",
            "Epoch 17/50\n",
            "20000/20000 [==============================] - 1s 42us/step - loss: 0.1932 - acc: 0.9543 - val_loss: 0.3163 - val_acc: 0.8894\n",
            "Epoch 18/50\n",
            "20000/20000 [==============================] - 1s 42us/step - loss: 0.1867 - acc: 0.9559 - val_loss: 0.3162 - val_acc: 0.8914\n",
            "Epoch 19/50\n",
            "20000/20000 [==============================] - 1s 42us/step - loss: 0.1804 - acc: 0.9584 - val_loss: 0.3262 - val_acc: 0.8910\n",
            "Epoch 20/50\n",
            "20000/20000 [==============================] - 1s 42us/step - loss: 0.1737 - acc: 0.9610 - val_loss: 0.3262 - val_acc: 0.8888\n",
            "Epoch 21/50\n",
            "20000/20000 [==============================] - 1s 41us/step - loss: 0.1692 - acc: 0.9625 - val_loss: 0.3253 - val_acc: 0.8894\n",
            "Epoch 22/50\n",
            "20000/20000 [==============================] - 1s 43us/step - loss: 0.1631 - acc: 0.9651 - val_loss: 0.3229 - val_acc: 0.8868\n",
            "Epoch 23/50\n",
            "20000/20000 [==============================] - 1s 42us/step - loss: 0.1597 - acc: 0.9656 - val_loss: 0.3247 - val_acc: 0.8892\n",
            "Epoch 24/50\n",
            "20000/20000 [==============================] - 1s 42us/step - loss: 0.1536 - acc: 0.9679 - val_loss: 0.3298 - val_acc: 0.8882\n",
            "Epoch 25/50\n",
            "20000/20000 [==============================] - 1s 42us/step - loss: 0.1488 - acc: 0.9702 - val_loss: 0.3339 - val_acc: 0.8856\n",
            "Epoch 26/50\n",
            "20000/20000 [==============================] - 1s 42us/step - loss: 0.1450 - acc: 0.9704 - val_loss: 0.3311 - val_acc: 0.8874\n",
            "Epoch 27/50\n",
            "20000/20000 [==============================] - 1s 42us/step - loss: 0.1414 - acc: 0.9718 - val_loss: 0.3359 - val_acc: 0.8884\n",
            "Epoch 28/50\n",
            "20000/20000 [==============================] - 1s 42us/step - loss: 0.1368 - acc: 0.9738 - val_loss: 0.3419 - val_acc: 0.8870\n",
            "Epoch 29/50\n",
            "20000/20000 [==============================] - 1s 42us/step - loss: 0.1327 - acc: 0.9756 - val_loss: 0.3360 - val_acc: 0.8856\n",
            "Epoch 30/50\n",
            "20000/20000 [==============================] - 1s 42us/step - loss: 0.1300 - acc: 0.9760 - val_loss: 0.3370 - val_acc: 0.8834\n",
            "Epoch 31/50\n",
            "20000/20000 [==============================] - 1s 42us/step - loss: 0.1272 - acc: 0.9763 - val_loss: 0.3392 - val_acc: 0.8852\n",
            "Epoch 32/50\n",
            "20000/20000 [==============================] - 1s 41us/step - loss: 0.1245 - acc: 0.9782 - val_loss: 0.3489 - val_acc: 0.8848\n",
            "Epoch 33/50\n",
            "20000/20000 [==============================] - 1s 41us/step - loss: 0.1199 - acc: 0.9802 - val_loss: 0.3546 - val_acc: 0.8834\n",
            "Epoch 34/50\n",
            "20000/20000 [==============================] - 1s 42us/step - loss: 0.1168 - acc: 0.9804 - val_loss: 0.3661 - val_acc: 0.8840\n",
            "Epoch 35/50\n",
            "20000/20000 [==============================] - 1s 42us/step - loss: 0.1148 - acc: 0.9808 - val_loss: 0.3530 - val_acc: 0.8828\n",
            "Epoch 36/50\n",
            "20000/20000 [==============================] - 1s 42us/step - loss: 0.1117 - acc: 0.9818 - val_loss: 0.3694 - val_acc: 0.8810\n",
            "Epoch 37/50\n",
            "20000/20000 [==============================] - 1s 41us/step - loss: 0.1092 - acc: 0.9834 - val_loss: 0.3686 - val_acc: 0.8824\n",
            "Epoch 38/50\n",
            "20000/20000 [==============================] - 1s 41us/step - loss: 0.1064 - acc: 0.9848 - val_loss: 0.3688 - val_acc: 0.8806\n",
            "Epoch 39/50\n",
            "20000/20000 [==============================] - 1s 42us/step - loss: 0.1038 - acc: 0.9847 - val_loss: 0.3678 - val_acc: 0.8818\n",
            "Epoch 40/50\n",
            "20000/20000 [==============================] - 1s 43us/step - loss: 0.1017 - acc: 0.9850 - val_loss: 0.3731 - val_acc: 0.8800\n",
            "Epoch 41/50\n",
            "20000/20000 [==============================] - 1s 42us/step - loss: 0.0989 - acc: 0.9873 - val_loss: 0.3807 - val_acc: 0.8774\n",
            "Epoch 42/50\n",
            "20000/20000 [==============================] - 1s 42us/step - loss: 0.1000 - acc: 0.9842 - val_loss: 0.3820 - val_acc: 0.8776\n",
            "Epoch 43/50\n",
            "20000/20000 [==============================] - 1s 42us/step - loss: 0.0952 - acc: 0.9878 - val_loss: 0.3882 - val_acc: 0.8792\n",
            "Epoch 44/50\n",
            "20000/20000 [==============================] - 1s 42us/step - loss: 0.0926 - acc: 0.9879 - val_loss: 0.3969 - val_acc: 0.8774\n",
            "Epoch 45/50\n",
            "20000/20000 [==============================] - 1s 44us/step - loss: 0.0908 - acc: 0.9878 - val_loss: 0.3889 - val_acc: 0.8774\n",
            "Epoch 46/50\n",
            "20000/20000 [==============================] - 1s 42us/step - loss: 0.0892 - acc: 0.9894 - val_loss: 0.4021 - val_acc: 0.8754\n",
            "Epoch 47/50\n",
            "20000/20000 [==============================] - 1s 43us/step - loss: 0.0877 - acc: 0.9890 - val_loss: 0.3994 - val_acc: 0.8764\n",
            "Epoch 48/50\n",
            "20000/20000 [==============================] - 1s 42us/step - loss: 0.0845 - acc: 0.9899 - val_loss: 0.3986 - val_acc: 0.8760\n",
            "Epoch 49/50\n",
            "20000/20000 [==============================] - 1s 42us/step - loss: 0.0830 - acc: 0.9910 - val_loss: 0.4116 - val_acc: 0.8754\n",
            "Epoch 50/50\n",
            "20000/20000 [==============================] - 1s 42us/step - loss: 0.0811 - acc: 0.9910 - val_loss: 0.4221 - val_acc: 0.8756\n"
          ],
          "name": "stdout"
        }
      ]
    },
    {
      "metadata": {
        "id": "qaO3Cqcv7Ood",
        "colab_type": "code",
        "colab": {
          "base_uri": "https://localhost:8080/",
          "height": 34
        },
        "outputId": "77c0d799-4405-45ce-e59e-09f570a4646b"
      },
      "cell_type": "code",
      "source": [
        "results=model.evaluate(test_data,ytest)"
      ],
      "execution_count": 82,
      "outputs": [
        {
          "output_type": "stream",
          "text": [
            "25000/25000 [==============================] - 2s 83us/step\n"
          ],
          "name": "stdout"
        }
      ]
    },
    {
      "metadata": {
        "id": "8gifqLYXRETJ",
        "colab_type": "code",
        "colab": {
          "base_uri": "https://localhost:8080/",
          "height": 34
        },
        "outputId": "46555e77-315c-45e1-f309-b2f4e7818bee"
      },
      "cell_type": "code",
      "source": [
        "print(results)"
      ],
      "execution_count": 83,
      "outputs": [
        {
          "output_type": "stream",
          "text": [
            "[0.4714404443693161, 0.85804]\n"
          ],
          "name": "stdout"
        }
      ]
    },
    {
      "metadata": {
        "id": "m8n-E0oSRHr3",
        "colab_type": "code",
        "colab": {
          "base_uri": "https://localhost:8080/",
          "height": 34
        },
        "outputId": "d82b1149-859b-4753-845c-cee3e27b7d8e"
      },
      "cell_type": "code",
      "source": [
        "history_dict=history.history\n",
        "history_dict.keys()"
      ],
      "execution_count": 84,
      "outputs": [
        {
          "output_type": "execute_result",
          "data": {
            "text/plain": [
              "dict_keys(['val_loss', 'val_acc', 'loss', 'acc'])"
            ]
          },
          "metadata": {
            "tags": []
          },
          "execution_count": 84
        }
      ]
    },
    {
      "metadata": {
        "id": "4qQGSNf-RQJf",
        "colab_type": "code",
        "colab": {
          "base_uri": "https://localhost:8080/",
          "height": 362
        },
        "outputId": "580e8852-30ee-491d-d6c9-60caa4b8e5c7"
      },
      "cell_type": "code",
      "source": [
        "plt.figure()\n",
        "acc=history.history['acc']\n",
        "val_loss=history.history['val_loss']\n",
        "loss=history.history['loss']\n",
        "val_acc=history.history['val_acc']\n",
        "\n",
        "epochs = range(1,len(acc)+1)\n",
        "plt.plot(epochs,loss,'bo',label=\"Training Loss\")\n",
        "plt.plot(epochs,val_loss,'b',label=\"Validation Loss\")\n",
        "plt.xlabel(\"Epochs\")\n",
        "plt.ylabel(\"Loss\")\n",
        "\n",
        "plt.legend()\n",
        "\n",
        "plt.show()"
      ],
      "execution_count": 85,
      "outputs": [
        {
          "output_type": "display_data",
          "data": {
            "image/png": "[encoded data removed]",
            "text/plain": [
              "<matplotlib.figure.Figure at 0x7fb6022ae550>"
            ]
          },
          "metadata": {
            "tags": []
          }
        }
      ]
    },
    {
      "metadata": {
        "id": "p9mx1l8SR-DA",
        "colab_type": "code",
        "colab": {}
      },
      "cell_type": "code",
      "source": [
        ""
      ],
      "execution_count": 0,
      "outputs": []
    }
  ]
}